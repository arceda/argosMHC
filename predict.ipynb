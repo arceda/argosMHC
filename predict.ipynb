{
 "cells": [
  {
   "cell_type": "code",
   "execution_count": 14,
   "id": "1cfd62db-bdf3-42c2-8037-0de7158eea91",
   "metadata": {
    "execution": {
     "iopub.execute_input": "2024-04-29T17:08:31.891148Z",
     "iopub.status.busy": "2024-04-29T17:08:31.890330Z",
     "iopub.status.idle": "2024-04-29T17:08:32.804467Z",
     "shell.execute_reply": "2024-04-29T17:08:32.803098Z",
     "shell.execute_reply.started": "2024-04-29T17:08:31.891106Z"
    }
   },
   "outputs": [],
   "source": [
    "!ls /datasets/neoantigenbucket/argosMHC/checkpoints; "
   ]
  },
  {
   "cell_type": "code",
   "execution_count": 15,
   "id": "338ac1f7-36c5-4590-9c1d-93b6609e6a5c",
   "metadata": {
    "execution": {
     "iopub.execute_input": "2024-04-29T17:08:40.356078Z",
     "iopub.status.busy": "2024-04-29T17:08:40.355554Z",
     "iopub.status.idle": "2024-04-29T17:08:40.544763Z",
     "shell.execute_reply": "2024-04-29T17:08:40.543471Z",
     "shell.execute_reply.started": "2024-04-29T17:08:40.356023Z"
    }
   },
   "outputs": [
    {
     "ename": "PermissionError",
     "evalue": "[Errno 13] Permission denied",
     "output_type": "error",
     "traceback": [
      "\u001b[0;31m---------------------------------------------------------------------------\u001b[0m",
      "\u001b[0;31mPermissionError\u001b[0m                           Traceback (most recent call last)",
      "Cell \u001b[0;32mIn [15], line 3\u001b[0m\n\u001b[1;32m      1\u001b[0m f \u001b[38;5;241m=\u001b[39m \u001b[38;5;28mopen\u001b[39m(\u001b[38;5;124m\"\u001b[39m\u001b[38;5;124m/datasets/neoantigenbucket/argosMHC/checkpoints/demofile.txt\u001b[39m\u001b[38;5;124m\"\u001b[39m, \u001b[38;5;124m\"\u001b[39m\u001b[38;5;124mw\u001b[39m\u001b[38;5;124m\"\u001b[39m)\n\u001b[1;32m      2\u001b[0m f\u001b[38;5;241m.\u001b[39mwrite(\u001b[38;5;124m\"\u001b[39m\u001b[38;5;124mNow the file has more content!\u001b[39m\u001b[38;5;124m\"\u001b[39m)\n\u001b[0;32m----> 3\u001b[0m \u001b[43mf\u001b[49m\u001b[38;5;241;43m.\u001b[39;49m\u001b[43mclose\u001b[49m\u001b[43m(\u001b[49m\u001b[43m)\u001b[49m\n",
      "\u001b[0;31mPermissionError\u001b[0m: [Errno 13] Permission denied"
     ]
    }
   ],
   "source": [
    "f = open(\"/datasets/neoantigenbucket/argosMHC/checkpoints/demofile.txt\", \"w\")\n",
    "f.write(\"Now the file has more content!\")\n",
    "f.close()"
   ]
  },
  {
   "cell_type": "code",
   "execution_count": 2,
   "id": "8b6abe53-6de9-4e0e-af57-ab89a1aa8bbf",
   "metadata": {
    "execution": {
     "iopub.execute_input": "2024-04-29T16:52:21.951054Z",
     "iopub.status.busy": "2024-04-29T16:52:21.950413Z",
     "iopub.status.idle": "2024-04-29T16:52:22.503332Z",
     "shell.execute_reply": "2024-04-29T16:52:22.502440Z",
     "shell.execute_reply.started": "2024-04-29T16:52:21.951026Z"
    }
   },
   "outputs": [
    {
     "ename": "AttributeError",
     "evalue": "module 'torch' has no attribute 'Tensor'",
     "output_type": "error",
     "traceback": [
      "\u001b[0;31m---------------------------------------------------------------------------\u001b[0m",
      "\u001b[0;31mAttributeError\u001b[0m                            Traceback (most recent call last)",
      "Cell \u001b[0;32mIn [2], line 4\u001b[0m\n\u001b[1;32m      1\u001b[0m \u001b[38;5;66;03m# Predictions for HLAB dataset for TAPE\u001b[39;00m\n\u001b[1;32m      2\u001b[0m \n\u001b[1;32m      3\u001b[0m \u001b[38;5;66;03m# load model\u001b[39;00m\n\u001b[0;32m----> 4\u001b[0m \u001b[38;5;28;01mfrom\u001b[39;00m \u001b[38;5;21;01mmodel_utils_tape\u001b[39;00m \u001b[38;5;28;01mimport\u001b[39;00m TapeRnn\n\u001b[1;32m      5\u001b[0m \u001b[38;5;28;01mfrom\u001b[39;00m \u001b[38;5;21;01mtransformers\u001b[39;00m \u001b[38;5;28;01mimport\u001b[39;00m BertConfig\n\u001b[1;32m      6\u001b[0m \u001b[38;5;28;01mfrom\u001b[39;00m \u001b[38;5;21;01mtransformers\u001b[39;00m \u001b[38;5;28;01mimport\u001b[39;00m Trainer, TrainingArguments, BertConfig\n",
      "File \u001b[0;32m/notebooks/argosMHC/model_utils_tape.py:1\u001b[0m\n\u001b[0;32m----> 1\u001b[0m \u001b[38;5;28;01mimport\u001b[39;00m \u001b[38;5;21;01mtorch\u001b[39;00m\u001b[38;5;21;01m.\u001b[39;00m\u001b[38;5;21;01mutils\u001b[39;00m\u001b[38;5;21;01m.\u001b[39;00m\u001b[38;5;21;01mcheckpoint\u001b[39;00m\n\u001b[1;32m      2\u001b[0m \u001b[38;5;28;01mfrom\u001b[39;00m \u001b[38;5;21;01mtorch\u001b[39;00m \u001b[38;5;28;01mimport\u001b[39;00m nn\n\u001b[1;32m      3\u001b[0m \u001b[38;5;28;01mfrom\u001b[39;00m \u001b[38;5;21;01mtorch\u001b[39;00m\u001b[38;5;21;01m.\u001b[39;00m\u001b[38;5;21;01mnn\u001b[39;00m \u001b[38;5;28;01mimport\u001b[39;00m CrossEntropyLoss, MSELoss\n",
      "File \u001b[0;32m/usr/local/lib/python3.9/dist-packages/torch/utils/checkpoint.py:12\u001b[0m\n\u001b[1;32m      4\u001b[0m \u001b[38;5;28;01mfrom\u001b[39;00m \u001b[38;5;21;01mtyping\u001b[39;00m \u001b[38;5;28;01mimport\u001b[39;00m Any, Iterable, List, Tuple\n\u001b[1;32m      6\u001b[0m __all__ \u001b[38;5;241m=\u001b[39m [\n\u001b[1;32m      7\u001b[0m     \u001b[38;5;124m\"\u001b[39m\u001b[38;5;124mcheckpoint\u001b[39m\u001b[38;5;124m\"\u001b[39m, \u001b[38;5;124m\"\u001b[39m\u001b[38;5;124mcheckpoint_sequential\u001b[39m\u001b[38;5;124m\"\u001b[39m, \u001b[38;5;124m\"\u001b[39m\u001b[38;5;124mCheckpointFunction\u001b[39m\u001b[38;5;124m\"\u001b[39m,\n\u001b[1;32m      8\u001b[0m     \u001b[38;5;124m\"\u001b[39m\u001b[38;5;124mcheck_backward_validity\u001b[39m\u001b[38;5;124m\"\u001b[39m, \u001b[38;5;124m\"\u001b[39m\u001b[38;5;124mdetach_variable\u001b[39m\u001b[38;5;124m\"\u001b[39m, \u001b[38;5;124m\"\u001b[39m\u001b[38;5;124mget_device_states\u001b[39m\u001b[38;5;124m\"\u001b[39m,\n\u001b[1;32m      9\u001b[0m     \u001b[38;5;124m\"\u001b[39m\u001b[38;5;124mset_device_states\u001b[39m\u001b[38;5;124m\"\u001b[39m,\n\u001b[1;32m     10\u001b[0m ]\n\u001b[0;32m---> 12\u001b[0m \u001b[38;5;28;01mdef\u001b[39;00m \u001b[38;5;21mdetach_variable\u001b[39m(inputs: Tuple[Any, \u001b[38;5;241m.\u001b[39m\u001b[38;5;241m.\u001b[39m\u001b[38;5;241m.\u001b[39m]) \u001b[38;5;241m-\u001b[39m\u001b[38;5;241m>\u001b[39m Tuple[\u001b[43mtorch\u001b[49m\u001b[38;5;241;43m.\u001b[39;49m\u001b[43mTensor\u001b[49m, \u001b[38;5;241m.\u001b[39m\u001b[38;5;241m.\u001b[39m\u001b[38;5;241m.\u001b[39m]:\n\u001b[1;32m     13\u001b[0m     \u001b[38;5;28;01mif\u001b[39;00m \u001b[38;5;28misinstance\u001b[39m(inputs, \u001b[38;5;28mtuple\u001b[39m):\n\u001b[1;32m     14\u001b[0m         out \u001b[38;5;241m=\u001b[39m []\n",
      "\u001b[0;31mAttributeError\u001b[0m: module 'torch' has no attribute 'Tensor'"
     ]
    }
   ],
   "source": [
    "# Predictions for HLAB dataset for TAPE\n",
    "\n",
    "# load model\n",
    "from model_utils_bert import BertRnn\n",
    "from transformers import BertConfig\n",
    "from transformers import Trainer, TrainingArguments, BertConfig\n",
    "from sklearn.metrics import accuracy_score, confusion_matrix, matthews_corrcoef, roc_auc_score\n",
    "from dataloader_tape import DataSetLoaderTAPE\n",
    "from tape import ProteinBertConfig\n",
    "from utils import compute_metrics\n",
    "\n",
    "#model_name = \"results/train_tape_rnn_acc_steps/checkpoint-1578\"\n",
    "#model_name = \"results/train_tape_rnn_freeze_acc_steps_30_epochs/checkpoint-9468\"\n",
    "#model_name = \"results/train_tape_rnn_acc_steps/checkpoint-1578\"\n",
    "model_name = \"../pre_trained_models/esm2_t36_3B_UR50D/\"\n",
    "seq_length = 50 # for MHC-I\n",
    "config = ProteinBertConfig.from_pretrained(model_name, num_labels=2 )\n",
    "\n",
    "model = Trainer(model = BertRnn.from_pretrained(model_name, config=config), compute_metrics = compute_metrics)\n",
    "test_dataset = DataSetLoaderBERT(\"dataset/hlab/hlab_test_micro.csv\", max_length=seq_length)\n",
    "\n",
    "predictions, label_ids, metrics = model.predict(test_dataset)\n",
    "print(model_name)\n",
    "print(metrics)\n",
    "\n",
    "########################## print predictions #######################################\n",
    "####################################################################################\n",
    "import pandas as pd\n",
    "df = pd.DataFrame(predictions)\n",
    "\n",
    "df['prediction'] = df.apply(lambda row: ( 0 if row[0] > row[1] else 1 ), axis=1)\n",
    "df['label'] = label_ids\n",
    "print(df)\n",
    "df.to_csv(\"tape_rnn_acc_steps.csv\")"
   ]
  }
 ],
 "metadata": {
  "kernelspec": {
   "display_name": "Python 3 (ipykernel)",
   "language": "python",
   "name": "python3"
  },
  "language_info": {
   "codemirror_mode": {
    "name": "ipython",
    "version": 3
   },
   "file_extension": ".py",
   "mimetype": "text/x-python",
   "name": "python",
   "nbconvert_exporter": "python",
   "pygments_lexer": "ipython3",
   "version": "3.9.16"
  }
 },
 "nbformat": 4,
 "nbformat_minor": 5
}
