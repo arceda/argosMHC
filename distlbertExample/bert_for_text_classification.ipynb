{
 "cells": [
  {
   "cell_type": "code",
   "execution_count": 1,
   "id": "8f05ddd8-c822-42b3-89b4-19ac45e34be7",
   "metadata": {
    "execution": {
     "iopub.execute_input": "2024-03-08T16:13:20.621158Z",
     "iopub.status.busy": "2024-03-08T16:13:20.620584Z",
     "iopub.status.idle": "2024-03-08T16:15:06.044264Z",
     "shell.execute_reply": "2024-03-08T16:15:06.043691Z",
     "shell.execute_reply.started": "2024-03-08T16:13:20.621137Z"
    }
   },
   "outputs": [
    {
     "name": "stdout",
     "output_type": "stream",
     "text": [
      "Requirement already satisfied: transformers==4.24.0 in /usr/local/lib/python3.9/dist-packages (4.24.0)\n",
      "Requirement already satisfied: evaluate in /usr/local/lib/python3.9/dist-packages (0.4.1)\n",
      "Requirement already satisfied: datasets in /usr/local/lib/python3.9/dist-packages (2.4.0)\n",
      "Requirement already satisfied: requests in /usr/local/lib/python3.9/dist-packages (2.28.2)\n",
      "Requirement already satisfied: pyyaml>=5.1 in /usr/local/lib/python3.9/dist-packages (from transformers==4.24.0) (5.4.1)\n",
      "Requirement already satisfied: regex!=2019.12.17 in /usr/local/lib/python3.9/dist-packages (from transformers==4.24.0) (2022.10.31)\n",
      "Requirement already satisfied: filelock in /usr/local/lib/python3.9/dist-packages (from transformers==4.24.0) (3.9.0)\n",
      "Requirement already satisfied: tokenizers!=0.11.3,<0.14,>=0.11.1 in /usr/local/lib/python3.9/dist-packages (from transformers==4.24.0) (0.12.1)\n",
      "Requirement already satisfied: packaging>=20.0 in /usr/local/lib/python3.9/dist-packages (from transformers==4.24.0) (23.0)\n",
      "Requirement already satisfied: tqdm>=4.27 in /usr/local/lib/python3.9/dist-packages (from transformers==4.24.0) (4.64.1)\n",
      "Requirement already satisfied: huggingface-hub<1.0,>=0.10.0 in /usr/local/lib/python3.9/dist-packages (from transformers==4.24.0) (0.12.0)\n",
      "Requirement already satisfied: numpy>=1.17 in /usr/local/lib/python3.9/dist-packages (from transformers==4.24.0) (1.23.4)\n",
      "Requirement already satisfied: multiprocess in /usr/local/lib/python3.9/dist-packages (from evaluate) (0.70.13)\n",
      "Requirement already satisfied: responses<0.19 in /usr/local/lib/python3.9/dist-packages (from evaluate) (0.18.0)\n",
      "Requirement already satisfied: dill in /usr/local/lib/python3.9/dist-packages (from evaluate) (0.3.5.1)\n",
      "Requirement already satisfied: xxhash in /usr/local/lib/python3.9/dist-packages (from evaluate) (3.2.0)\n",
      "Requirement already satisfied: pandas in /usr/local/lib/python3.9/dist-packages (from evaluate) (1.5.0)\n",
      "Requirement already satisfied: fsspec[http]>=2021.05.0 in /usr/local/lib/python3.9/dist-packages (from evaluate) (2023.1.0)\n",
      "Requirement already satisfied: pyarrow>=6.0.0 in /usr/local/lib/python3.9/dist-packages (from datasets) (10.0.1)\n",
      "Requirement already satisfied: aiohttp in /usr/local/lib/python3.9/dist-packages (from datasets) (3.8.3)\n",
      "Requirement already satisfied: idna<4,>=2.5 in /usr/lib/python3/dist-packages (from requests) (2.8)\n",
      "Requirement already satisfied: certifi>=2017.4.17 in /usr/lib/python3/dist-packages (from requests) (2019.11.28)\n",
      "Requirement already satisfied: urllib3<1.27,>=1.21.1 in /usr/local/lib/python3.9/dist-packages (from requests) (1.26.14)\n",
      "Requirement already satisfied: charset-normalizer<4,>=2 in /usr/local/lib/python3.9/dist-packages (from requests) (2.1.1)\n",
      "Requirement already satisfied: async-timeout<5.0,>=4.0.0a3 in /usr/local/lib/python3.9/dist-packages (from aiohttp->datasets) (4.0.2)\n",
      "Requirement already satisfied: frozenlist>=1.1.1 in /usr/local/lib/python3.9/dist-packages (from aiohttp->datasets) (1.3.3)\n",
      "Requirement already satisfied: aiosignal>=1.1.2 in /usr/local/lib/python3.9/dist-packages (from aiohttp->datasets) (1.3.1)\n",
      "Requirement already satisfied: yarl<2.0,>=1.0 in /usr/local/lib/python3.9/dist-packages (from aiohttp->datasets) (1.8.2)\n",
      "Requirement already satisfied: attrs>=17.3.0 in /usr/local/lib/python3.9/dist-packages (from aiohttp->datasets) (18.2.0)\n",
      "Requirement already satisfied: multidict<7.0,>=4.5 in /usr/local/lib/python3.9/dist-packages (from aiohttp->datasets) (6.0.4)\n",
      "Requirement already satisfied: typing-extensions>=3.7.4.3 in /usr/local/lib/python3.9/dist-packages (from huggingface-hub<1.0,>=0.10.0->transformers==4.24.0) (4.4.0)\n",
      "Requirement already satisfied: python-dateutil>=2.8.1 in /usr/local/lib/python3.9/dist-packages (from pandas->evaluate) (2.8.2)\n",
      "Requirement already satisfied: pytz>=2020.1 in /usr/local/lib/python3.9/dist-packages (from pandas->evaluate) (2022.7.1)\n",
      "Requirement already satisfied: six>=1.5 in /usr/lib/python3/dist-packages (from python-dateutil>=2.8.1->pandas->evaluate) (1.14.0)\n",
      "\u001b[33mWARNING: Running pip as the 'root' user can result in broken permissions and conflicting behaviour with the system package manager. It is recommended to use a virtual environment instead: https://pip.pypa.io/warnings/venv\u001b[0m\u001b[33m\n",
      "\u001b[0mRequirement already satisfied: tape-proteins in /usr/local/lib/python3.9/dist-packages (0.5)\n",
      "Requirement already satisfied: requests in /usr/local/lib/python3.9/dist-packages (from tape-proteins) (2.28.2)\n",
      "Requirement already satisfied: lmdb in /usr/local/lib/python3.9/dist-packages (from tape-proteins) (1.4.1)\n",
      "Requirement already satisfied: scipy in /usr/local/lib/python3.9/dist-packages (from tape-proteins) (1.9.2)\n",
      "Requirement already satisfied: biopython in /usr/local/lib/python3.9/dist-packages (from tape-proteins) (1.83)\n",
      "Requirement already satisfied: tqdm in /usr/local/lib/python3.9/dist-packages (from tape-proteins) (4.64.1)\n",
      "Requirement already satisfied: boto3 in /usr/local/lib/python3.9/dist-packages (from tape-proteins) (1.24.90)\n",
      "Requirement already satisfied: tensorboardX in /usr/local/lib/python3.9/dist-packages (from tape-proteins) (2.6.2.2)\n",
      "Requirement already satisfied: filelock in /usr/local/lib/python3.9/dist-packages (from tape-proteins) (3.9.0)\n",
      "Requirement already satisfied: numpy in /usr/local/lib/python3.9/dist-packages (from biopython->tape-proteins) (1.23.4)\n",
      "Requirement already satisfied: jmespath<2.0.0,>=0.7.1 in /usr/local/lib/python3.9/dist-packages (from boto3->tape-proteins) (1.0.1)\n",
      "Requirement already satisfied: s3transfer<0.7.0,>=0.6.0 in /usr/local/lib/python3.9/dist-packages (from boto3->tape-proteins) (0.6.0)\n",
      "Requirement already satisfied: botocore<1.28.0,>=1.27.90 in /usr/local/lib/python3.9/dist-packages (from boto3->tape-proteins) (1.27.90)\n",
      "Requirement already satisfied: urllib3<1.27,>=1.21.1 in /usr/local/lib/python3.9/dist-packages (from requests->tape-proteins) (1.26.14)\n",
      "Requirement already satisfied: idna<4,>=2.5 in /usr/lib/python3/dist-packages (from requests->tape-proteins) (2.8)\n",
      "Requirement already satisfied: charset-normalizer<4,>=2 in /usr/local/lib/python3.9/dist-packages (from requests->tape-proteins) (2.1.1)\n",
      "Requirement already satisfied: certifi>=2017.4.17 in /usr/lib/python3/dist-packages (from requests->tape-proteins) (2019.11.28)\n",
      "Collecting protobuf>=3.20\n",
      "  Using cached protobuf-4.25.3-cp37-abi3-manylinux2014_x86_64.whl (294 kB)\n",
      "Requirement already satisfied: packaging in /usr/local/lib/python3.9/dist-packages (from tensorboardX->tape-proteins) (23.0)\n",
      "Requirement already satisfied: python-dateutil<3.0.0,>=2.1 in /usr/local/lib/python3.9/dist-packages (from botocore<1.28.0,>=1.27.90->boto3->tape-proteins) (2.8.2)\n",
      "Requirement already satisfied: six>=1.5 in /usr/lib/python3/dist-packages (from python-dateutil<3.0.0,>=2.1->botocore<1.28.0,>=1.27.90->boto3->tape-proteins) (1.14.0)\n",
      "Installing collected packages: protobuf\n",
      "  Attempting uninstall: protobuf\n",
      "    Found existing installation: protobuf 3.19.6\n",
      "    Uninstalling protobuf-3.19.6:\n",
      "      Successfully uninstalled protobuf-3.19.6\n",
      "\u001b[31mERROR: pip's dependency resolver does not currently take into account all the packages that are installed. This behaviour is the source of the following dependency conflicts.\n",
      "tensorflow 2.9.2 requires protobuf<3.20,>=3.9.2, but you have protobuf 4.25.3 which is incompatible.\n",
      "tensorboard 2.9.1 requires protobuf<3.20,>=3.9.2, but you have protobuf 4.25.3 which is incompatible.\u001b[0m\u001b[31m\n",
      "\u001b[0mSuccessfully installed protobuf-4.25.3\n",
      "\u001b[33mWARNING: Running pip as the 'root' user can result in broken permissions and conflicting behaviour with the system package manager. It is recommended to use a virtual environment instead: https://pip.pypa.io/warnings/venv\u001b[0m\u001b[33m\n",
      "\u001b[0mFound existing installation: protobuf 4.25.3\n",
      "Uninstalling protobuf-4.25.3:\n",
      "  Successfully uninstalled protobuf-4.25.3\n",
      "\u001b[33mWARNING: Running pip as the 'root' user can result in broken permissions and conflicting behaviour with the system package manager. It is recommended to use a virtual environment instead: https://pip.pypa.io/warnings/venv\u001b[0m\u001b[33m\n",
      "\u001b[0mCollecting protobuf==3.19.*\n",
      "  Using cached protobuf-3.19.6-cp39-cp39-manylinux_2_17_x86_64.manylinux2014_x86_64.whl (1.1 MB)\n",
      "Installing collected packages: protobuf\n",
      "\u001b[31mERROR: pip's dependency resolver does not currently take into account all the packages that are installed. This behaviour is the source of the following dependency conflicts.\n",
      "tensorboardx 2.6.2.2 requires protobuf>=3.20, but you have protobuf 3.19.6 which is incompatible.\u001b[0m\u001b[31m\n",
      "\u001b[0mSuccessfully installed protobuf-3.19.6\n",
      "\u001b[33mWARNING: Running pip as the 'root' user can result in broken permissions and conflicting behaviour with the system package manager. It is recommended to use a virtual environment instead: https://pip.pypa.io/warnings/venv\u001b[0m\u001b[33m\n",
      "\u001b[0mCollecting torch==1.13.0\n",
      "  Downloading torch-1.13.0-cp39-cp39-manylinux1_x86_64.whl (890.2 MB)\n",
      "\u001b[2K     \u001b[90m━━━━━━━━━━━━━━━━━━━━━━━━━━━━━━━━━━━━━━━\u001b[0m \u001b[32m890.2/890.2 MB\u001b[0m \u001b[31m2.5 MB/s\u001b[0m eta \u001b[36m0:00:00\u001b[0m00:01\u001b[0m00:01\u001b[0m\n",
      "\u001b[?25hRequirement already satisfied: typing-extensions in /usr/local/lib/python3.9/dist-packages (from torch==1.13.0) (4.4.0)\n",
      "Collecting nvidia-cudnn-cu11==8.5.0.96\n",
      "  Downloading nvidia_cudnn_cu11-8.5.0.96-2-py3-none-manylinux1_x86_64.whl (557.1 MB)\n",
      "\u001b[2K     \u001b[90m━━━━━━━━━━━━━━━━━━━━━━━━━━━━━━━━━━━━━━━\u001b[0m \u001b[32m557.1/557.1 MB\u001b[0m \u001b[31m4.3 MB/s\u001b[0m eta \u001b[36m0:00:00\u001b[0m00:01\u001b[0m00:01\u001b[0m\n",
      "\u001b[?25hCollecting nvidia-cuda-nvrtc-cu11==11.7.99\n",
      "  Downloading nvidia_cuda_nvrtc_cu11-11.7.99-2-py3-none-manylinux1_x86_64.whl (21.0 MB)\n",
      "\u001b[2K     \u001b[90m━━━━━━━━━━━━━━━━━━━━━━━━━━━━━━━━━━━━━━━━\u001b[0m \u001b[32m21.0/21.0 MB\u001b[0m \u001b[31m24.0 MB/s\u001b[0m eta \u001b[36m0:00:00\u001b[0m00:01\u001b[0m00:01\u001b[0m\n",
      "\u001b[?25hCollecting nvidia-cublas-cu11==11.10.3.66\n",
      "  Downloading nvidia_cublas_cu11-11.10.3.66-py3-none-manylinux1_x86_64.whl (317.1 MB)\n",
      "\u001b[2K     \u001b[90m━━━━━━━━━━━━━━━━━━━━━━━━━━━━━━━━━━━━━━━\u001b[0m \u001b[32m317.1/317.1 MB\u001b[0m \u001b[31m7.3 MB/s\u001b[0m eta \u001b[36m0:00:00\u001b[0m00:01\u001b[0m00:01\u001b[0m\n",
      "\u001b[?25hCollecting nvidia-cuda-runtime-cu11==11.7.99\n",
      "  Downloading nvidia_cuda_runtime_cu11-11.7.99-py3-none-manylinux1_x86_64.whl (849 kB)\n",
      "\u001b[2K     \u001b[90m━━━━━━━━━━━━━━━━━━━━━━━━━━━━━━━━━━━━━━\u001b[0m \u001b[32m849.3/849.3 kB\u001b[0m \u001b[31m40.7 MB/s\u001b[0m eta \u001b[36m0:00:00\u001b[0m\n",
      "\u001b[?25hRequirement already satisfied: setuptools in /usr/local/lib/python3.9/dist-packages (from nvidia-cublas-cu11==11.10.3.66->torch==1.13.0) (66.1.1)\n",
      "Requirement already satisfied: wheel in /usr/local/lib/python3.9/dist-packages (from nvidia-cublas-cu11==11.10.3.66->torch==1.13.0) (0.35.1)\n",
      "Installing collected packages: nvidia-cuda-runtime-cu11, nvidia-cuda-nvrtc-cu11, nvidia-cublas-cu11, nvidia-cudnn-cu11, torch\n",
      "  Attempting uninstall: torch\n",
      "    Found existing installation: torch 1.12.1+cu116\n",
      "    Uninstalling torch-1.12.1+cu116:\n",
      "      Successfully uninstalled torch-1.12.1+cu116\n",
      "\u001b[31mERROR: pip's dependency resolver does not currently take into account all the packages that are installed. This behaviour is the source of the following dependency conflicts.\n",
      "torchvision 0.13.1+cu116 requires torch==1.12.1, but you have torch 1.13.0 which is incompatible.\n",
      "torchaudio 0.12.1+cu116 requires torch==1.12.1, but you have torch 1.13.0 which is incompatible.\u001b[0m\u001b[31m\n",
      "\u001b[0mSuccessfully installed nvidia-cublas-cu11-11.10.3.66 nvidia-cuda-nvrtc-cu11-11.7.99 nvidia-cuda-runtime-cu11-11.7.99 nvidia-cudnn-cu11-8.5.0.96 torch-1.13.0\n",
      "\u001b[33mWARNING: Running pip as the 'root' user can result in broken permissions and conflicting behaviour with the system package manager. It is recommended to use a virtual environment instead: https://pip.pypa.io/warnings/venv\u001b[0m\u001b[33m\n",
      "\u001b[0m"
     ]
    }
   ],
   "source": [
    "! pip install transformers==4.24.0 evaluate datasets requests\n",
    "! pip install tape-proteins\n",
    "! pip uninstall protobuf -y\n",
    "! pip install \"protobuf==3.19.*\"\n",
    "! pip install torch==1.13.0"
   ]
  },
  {
   "cell_type": "code",
   "execution_count": 2,
   "id": "f77150f8-efc6-4d74-b48d-3fdfa9396a7f",
   "metadata": {
    "execution": {
     "iopub.execute_input": "2024-03-08T16:15:06.045471Z",
     "iopub.status.busy": "2024-03-08T16:15:06.045283Z",
     "iopub.status.idle": "2024-03-08T16:15:11.470134Z",
     "shell.execute_reply": "2024-03-08T16:15:11.469630Z",
     "shell.execute_reply.started": "2024-03-08T16:15:06.045450Z"
    }
   },
   "outputs": [],
   "source": [
    "import os\n",
    "import torch\n",
    "from torch import nn\n",
    "from torch.utils.data import DataLoader, Dataset\n",
    "from transformers import BertTokenizer, BertModel, BertConfig, AdamW, get_linear_schedule_with_warmup\n",
    "from distillerBERT import Distillator as DistillatorBert\n",
    "from sklearn.model_selection import train_test_split\n",
    "from sklearn.metrics import accuracy_score, classification_report\n",
    "import pandas as pd"
   ]
  },
  {
   "cell_type": "code",
   "execution_count": 3,
   "id": "ba64fdf6-88e3-47ac-8081-3f2be82d6067",
   "metadata": {
    "execution": {
     "iopub.execute_input": "2024-03-08T16:15:26.326001Z",
     "iopub.status.busy": "2024-03-08T16:15:26.324996Z",
     "iopub.status.idle": "2024-03-08T16:15:26.329144Z",
     "shell.execute_reply": "2024-03-08T16:15:26.328683Z",
     "shell.execute_reply.started": "2024-03-08T16:15:26.325974Z"
    }
   },
   "outputs": [],
   "source": [
    "def load_imdb_data(data_file):\n",
    "    df = pd.read_csv(data_file)\n",
    "    texts = df['review'].tolist()\n",
    "    labels = [1 if sentiment == \"positive\" else 0 for sentiment in df['sentiment'].tolist()]\n",
    "    return texts, labels"
   ]
  },
  {
   "cell_type": "code",
   "execution_count": 4,
   "id": "bc8c4eff-76ca-4dcd-9371-35f81753da10",
   "metadata": {
    "execution": {
     "iopub.execute_input": "2024-03-08T16:15:27.750992Z",
     "iopub.status.busy": "2024-03-08T16:15:27.750308Z",
     "iopub.status.idle": "2024-03-08T16:15:29.237918Z",
     "shell.execute_reply": "2024-03-08T16:15:29.237452Z",
     "shell.execute_reply.started": "2024-03-08T16:15:27.750965Z"
    }
   },
   "outputs": [],
   "source": [
    "data_file = \"IMDB Dataset.csv\"\n",
    "texts, labels = load_imdb_data(data_file)"
   ]
  },
  {
   "cell_type": "code",
   "execution_count": 5,
   "id": "ef632fdc-0043-482c-8ef2-5de3084ad772",
   "metadata": {
    "execution": {
     "iopub.execute_input": "2024-03-08T16:15:31.970128Z",
     "iopub.status.busy": "2024-03-08T16:15:31.969464Z",
     "iopub.status.idle": "2024-03-08T16:15:31.974138Z",
     "shell.execute_reply": "2024-03-08T16:15:31.973711Z",
     "shell.execute_reply.started": "2024-03-08T16:15:31.970100Z"
    }
   },
   "outputs": [],
   "source": [
    "class TextClassificationDataset(Dataset):\n",
    "    def __init__(self, texts, labels, tokenizer, max_length):\n",
    "            self.texts = texts\n",
    "            self.labels = labels\n",
    "            self.tokenizer = tokenizer\n",
    "            self.max_length = max_length\n",
    "    def __len__(self):\n",
    "        return len(self.texts)\n",
    "    def __getitem__(self, idx):\n",
    "        text = self.texts[idx]\n",
    "        label = self.labels[idx]\n",
    "        encoding = self.tokenizer(text, return_tensors='pt', max_length=self.max_length, padding='max_length', truncation=True)\n",
    "        return {'input_ids': encoding['input_ids'].flatten(), 'attention_mask': encoding['attention_mask'].flatten(), 'label': torch.tensor(label)}"
   ]
  },
  {
   "cell_type": "code",
   "execution_count": 7,
   "id": "c66802be-e433-4ed7-bab6-2e1bc5c81a12",
   "metadata": {
    "execution": {
     "iopub.execute_input": "2024-03-08T16:15:52.921451Z",
     "iopub.status.busy": "2024-03-08T16:15:52.921186Z",
     "iopub.status.idle": "2024-03-08T16:15:52.925535Z",
     "shell.execute_reply": "2024-03-08T16:15:52.925096Z",
     "shell.execute_reply.started": "2024-03-08T16:15:52.921431Z"
    }
   },
   "outputs": [],
   "source": [
    "class BERTClassifier(nn.Module):\n",
    "    def __init__(self, bert_model_name, num_classes):\n",
    "        super(BERTClassifier, self).__init__()\n",
    "        self.bert = BertModel.from_pretrained('bert-base-uncased')\n",
    "        self.dropout = nn.Dropout(0.1)\n",
    "        self.fc = nn.Linear(self.bert.config.hidden_size, num_classes)\n",
    "\n",
    "    def forward(self, input_ids, attention_mask):\n",
    "        outputs = self.bert(input_ids=input_ids, attention_mask=attention_mask)\n",
    "        pooled_output = outputs.pooler_output\n",
    "        x = self.dropout(pooled_output)\n",
    "        logits = self.fc(x)\n",
    "        return logits"
   ]
  },
  {
   "cell_type": "code",
   "execution_count": 8,
   "id": "991f9de2-4269-4911-94a7-f1ddc8665628",
   "metadata": {
    "execution": {
     "iopub.execute_input": "2024-03-08T16:15:55.669759Z",
     "iopub.status.busy": "2024-03-08T16:15:55.669487Z",
     "iopub.status.idle": "2024-03-08T16:15:55.674390Z",
     "shell.execute_reply": "2024-03-08T16:15:55.673748Z",
     "shell.execute_reply.started": "2024-03-08T16:15:55.669735Z"
    }
   },
   "outputs": [],
   "source": [
    "def train(model, data_loader, optimizer, scheduler, device):\n",
    "    model.train()\n",
    "    for batch in data_loader:\n",
    "        optimizer.zero_grad()\n",
    "        input_ids = batch['input_ids'].to(device)\n",
    "        attention_mask = batch['attention_mask'].to(device)\n",
    "        labels = batch['label'].to(device)\n",
    "        outputs = model(input_ids=input_ids, attention_mask=attention_mask)\n",
    "        loss = nn.CrossEntropyLoss()(outputs, labels)\n",
    "        loss.backward()\n",
    "        optimizer.step()\n",
    "        scheduler.step()"
   ]
  },
  {
   "cell_type": "code",
   "execution_count": 9,
   "id": "9bb6dd28-97d1-446b-9046-d853766a4052",
   "metadata": {
    "execution": {
     "iopub.execute_input": "2024-03-08T16:15:58.035434Z",
     "iopub.status.busy": "2024-03-08T16:15:58.034924Z",
     "iopub.status.idle": "2024-03-08T16:15:58.040003Z",
     "shell.execute_reply": "2024-03-08T16:15:58.039243Z",
     "shell.execute_reply.started": "2024-03-08T16:15:58.035407Z"
    }
   },
   "outputs": [],
   "source": [
    "def evaluate(model, data_loader, device):\n",
    "    model.eval()\n",
    "    predictions = []\n",
    "    actual_labels = []\n",
    "    with torch.no_grad():\n",
    "        for batch in data_loader:\n",
    "            input_ids = batch['input_ids'].to(device)\n",
    "            attention_mask = batch['attention_mask'].to(device)\n",
    "            labels = batch['label'].to(device)\n",
    "            outputs = model(input_ids=input_ids, attention_mask=attention_mask)\n",
    "            _, preds = torch.max(outputs, dim=1)\n",
    "            predictions.extend(preds.cpu().tolist())\n",
    "            actual_labels.extend(labels.cpu().tolist())\n",
    "    return accuracy_score(actual_labels, predictions), classification_report(actual_labels, predictions)"
   ]
  },
  {
   "cell_type": "code",
   "execution_count": 10,
   "id": "b3561688-569f-4127-9567-b953f8924c6c",
   "metadata": {
    "execution": {
     "iopub.execute_input": "2024-03-08T16:15:59.721834Z",
     "iopub.status.busy": "2024-03-08T16:15:59.721223Z",
     "iopub.status.idle": "2024-03-08T16:15:59.726702Z",
     "shell.execute_reply": "2024-03-08T16:15:59.726045Z",
     "shell.execute_reply.started": "2024-03-08T16:15:59.721809Z"
    }
   },
   "outputs": [],
   "source": [
    "def predict_sentiment(text, model, tokenizer, device, max_length=128):\n",
    "    model.eval()\n",
    "    encoding = tokenizer(text, return_tensors='pt', max_length=max_length, padding='max_length', truncation=True)\n",
    "    input_ids = encoding['input_ids'].to(device)\n",
    "    attention_mask = encoding['attention_mask'].to(device)\n",
    "\n",
    "    with torch.no_grad():\n",
    "            outputs = model(input_ids=input_ids, attention_mask=attention_mask)\n",
    "            _, preds = torch.max(outputs, dim=1)\n",
    "    return \"positive\" if preds.item() == 1 else \"negative\""
   ]
  },
  {
   "cell_type": "code",
   "execution_count": 11,
   "id": "f159ada6-d94b-43e6-b199-14e204055418",
   "metadata": {
    "execution": {
     "iopub.execute_input": "2024-03-08T16:16:01.543512Z",
     "iopub.status.busy": "2024-03-08T16:16:01.543069Z",
     "iopub.status.idle": "2024-03-08T16:16:01.546772Z",
     "shell.execute_reply": "2024-03-08T16:16:01.546158Z",
     "shell.execute_reply.started": "2024-03-08T16:16:01.543487Z"
    }
   },
   "outputs": [],
   "source": [
    "# Set up parameters\n",
    "bert_model_name = 'bert-base-uncased'\n",
    "num_classes = 2\n",
    "max_length = 128\n",
    "batch_size = 16\n",
    "num_epochs = 4\n",
    "learning_rate = 2e-5"
   ]
  },
  {
   "cell_type": "code",
   "execution_count": 12,
   "id": "eb948e39-0cf2-48a9-bf35-c95e54186e9b",
   "metadata": {
    "execution": {
     "iopub.execute_input": "2024-03-08T16:16:03.615525Z",
     "iopub.status.busy": "2024-03-08T16:16:03.614899Z",
     "iopub.status.idle": "2024-03-08T16:16:03.636843Z",
     "shell.execute_reply": "2024-03-08T16:16:03.636237Z",
     "shell.execute_reply.started": "2024-03-08T16:16:03.615492Z"
    }
   },
   "outputs": [],
   "source": [
    "train_texts, val_texts, train_labels, val_labels = train_test_split(texts, labels, test_size=0.2, random_state=42)"
   ]
  },
  {
   "cell_type": "code",
   "execution_count": 13,
   "id": "2689ad34-bd81-46d2-afa7-b6831125c828",
   "metadata": {
    "execution": {
     "iopub.execute_input": "2024-03-08T16:16:05.292066Z",
     "iopub.status.busy": "2024-03-08T16:16:05.291587Z",
     "iopub.status.idle": "2024-03-08T16:16:06.015173Z",
     "shell.execute_reply": "2024-03-08T16:16:06.014562Z",
     "shell.execute_reply.started": "2024-03-08T16:16:05.292043Z"
    }
   },
   "outputs": [
    {
     "data": {
      "application/vnd.jupyter.widget-view+json": {
       "model_id": "baa2f288e5ab4c048151099348a60c03",
       "version_major": 2,
       "version_minor": 0
      },
      "text/plain": [
       "Downloading (…)\"vocab.txt\";:   0%|          | 0.00/232k [00:00<?, ?B/s]"
      ]
     },
     "metadata": {},
     "output_type": "display_data"
    },
    {
     "data": {
      "application/vnd.jupyter.widget-view+json": {
       "model_id": "33ca430a859d442ab07487008f51e956",
       "version_major": 2,
       "version_minor": 0
      },
      "text/plain": [
       "Downloading (…)enizer_config.json\";:   0%|          | 0.00/48.0 [00:00<?, ?B/s]"
      ]
     },
     "metadata": {},
     "output_type": "display_data"
    },
    {
     "data": {
      "application/vnd.jupyter.widget-view+json": {
       "model_id": "ac80ce7e28da4bca9ceeec27e5c67ac1",
       "version_major": 2,
       "version_minor": 0
      },
      "text/plain": [
       "Downloading (…)\"config.json\";:   0%|          | 0.00/570 [00:00<?, ?B/s]"
      ]
     },
     "metadata": {},
     "output_type": "display_data"
    }
   ],
   "source": [
    "tokenizer = BertTokenizer.from_pretrained(bert_model_name)\n",
    "train_dataset = TextClassificationDataset(train_texts, train_labels, tokenizer, max_length)\n",
    "val_dataset = TextClassificationDataset(val_texts, val_labels, tokenizer, max_length)\n",
    "train_dataloader = DataLoader(train_dataset, batch_size=batch_size, shuffle=True)\n",
    "val_dataloader = DataLoader(val_dataset, batch_size=batch_size)"
   ]
  },
  {
   "cell_type": "code",
   "execution_count": 14,
   "id": "a7976456-1f12-44cd-ace6-37ddb7434493",
   "metadata": {
    "execution": {
     "iopub.execute_input": "2024-03-08T16:16:07.533417Z",
     "iopub.status.busy": "2024-03-08T16:16:07.533008Z",
     "iopub.status.idle": "2024-03-08T16:16:45.992022Z",
     "shell.execute_reply": "2024-03-08T16:16:45.991443Z",
     "shell.execute_reply.started": "2024-03-08T16:16:07.533386Z"
    }
   },
   "outputs": [
    {
     "data": {
      "application/vnd.jupyter.widget-view+json": {
       "model_id": "3a73042dc7d041beb52b6bb85bbf75c7",
       "version_major": 2,
       "version_minor": 0
      },
      "text/plain": [
       "Downloading (…)\"pytorch_model.bin\";:   0%|          | 0.00/440M [00:00<?, ?B/s]"
      ]
     },
     "metadata": {},
     "output_type": "display_data"
    },
    {
     "name": "stderr",
     "output_type": "stream",
     "text": [
      "Some weights of the model checkpoint at bert-base-uncased were not used when initializing BertModel: ['cls.predictions.transform.dense.bias', 'cls.predictions.transform.dense.weight', 'cls.seq_relationship.weight', 'cls.seq_relationship.bias', 'cls.predictions.decoder.weight', 'cls.predictions.transform.LayerNorm.bias', 'cls.predictions.bias', 'cls.predictions.transform.LayerNorm.weight']\n",
      "- This IS expected if you are initializing BertModel from the checkpoint of a model trained on another task or with another architecture (e.g. initializing a BertForSequenceClassification model from a BertForPreTraining model).\n",
      "- This IS NOT expected if you are initializing BertModel from the checkpoint of a model that you expect to be exactly identical (initializing a BertForSequenceClassification model from a BertForSequenceClassification model).\n"
     ]
    }
   ],
   "source": [
    "device = torch.device(\"cuda\" if torch.cuda.is_available() else \"cpu\")\n",
    "model = BERTClassifier(bert_model_name, num_classes).to(device)"
   ]
  },
  {
   "cell_type": "code",
   "execution_count": 15,
   "id": "61fe173e-a2ff-4946-80e1-606364c9d901",
   "metadata": {
    "execution": {
     "iopub.execute_input": "2024-03-08T16:16:48.814933Z",
     "iopub.status.busy": "2024-03-08T16:16:48.814687Z",
     "iopub.status.idle": "2024-03-08T16:16:48.824183Z",
     "shell.execute_reply": "2024-03-08T16:16:48.823612Z",
     "shell.execute_reply.started": "2024-03-08T16:16:48.814913Z"
    }
   },
   "outputs": [
    {
     "name": "stderr",
     "output_type": "stream",
     "text": [
      "/usr/local/lib/python3.9/dist-packages/transformers/optimization.py:306: FutureWarning: This implementation of AdamW is deprecated and will be removed in a future version. Use the PyTorch implementation torch.optim.AdamW instead, or set `no_deprecation_warning=True` to disable this warning\n",
      "  warnings.warn(\n"
     ]
    }
   ],
   "source": [
    "optimizer = AdamW(model.parameters(), lr=learning_rate)\n",
    "total_steps = len(train_dataloader) * num_epochs\n",
    "scheduler = get_linear_schedule_with_warmup(optimizer, num_warmup_steps=0, num_training_steps=total_steps)"
   ]
  },
  {
   "cell_type": "code",
   "execution_count": 16,
   "id": "04fc7ef7-a28e-4a2b-8dd8-2ad0ac441c14",
   "metadata": {
    "execution": {
     "iopub.execute_input": "2024-03-08T16:16:52.196584Z",
     "iopub.status.busy": "2024-03-08T16:16:52.196308Z",
     "iopub.status.idle": "2024-03-08T16:42:28.155688Z",
     "shell.execute_reply": "2024-03-08T16:42:28.155123Z",
     "shell.execute_reply.started": "2024-03-08T16:16:52.196563Z"
    }
   },
   "outputs": [
    {
     "name": "stdout",
     "output_type": "stream",
     "text": [
      "Epoch 1/4\n",
      "Validation Accuracy: 0.8896\n",
      "              precision    recall  f1-score   support\n",
      "\n",
      "           0       0.92      0.86      0.88      4961\n",
      "           1       0.87      0.92      0.89      5039\n",
      "\n",
      "    accuracy                           0.89     10000\n",
      "   macro avg       0.89      0.89      0.89     10000\n",
      "weighted avg       0.89      0.89      0.89     10000\n",
      "\n",
      "Epoch 2/4\n",
      "Validation Accuracy: 0.8966\n",
      "              precision    recall  f1-score   support\n",
      "\n",
      "           0       0.91      0.88      0.89      4961\n",
      "           1       0.88      0.91      0.90      5039\n",
      "\n",
      "    accuracy                           0.90     10000\n",
      "   macro avg       0.90      0.90      0.90     10000\n",
      "weighted avg       0.90      0.90      0.90     10000\n",
      "\n",
      "Epoch 3/4\n",
      "Validation Accuracy: 0.8969\n",
      "              precision    recall  f1-score   support\n",
      "\n",
      "           0       0.88      0.91      0.90      4961\n",
      "           1       0.91      0.88      0.90      5039\n",
      "\n",
      "    accuracy                           0.90     10000\n",
      "   macro avg       0.90      0.90      0.90     10000\n",
      "weighted avg       0.90      0.90      0.90     10000\n",
      "\n",
      "Epoch 4/4\n",
      "Validation Accuracy: 0.8975\n",
      "              precision    recall  f1-score   support\n",
      "\n",
      "           0       0.90      0.89      0.90      4961\n",
      "           1       0.89      0.91      0.90      5039\n",
      "\n",
      "    accuracy                           0.90     10000\n",
      "   macro avg       0.90      0.90      0.90     10000\n",
      "weighted avg       0.90      0.90      0.90     10000\n",
      "\n"
     ]
    }
   ],
   "source": [
    "for epoch in range(num_epochs):\n",
    "    print(f\"Epoch {epoch + 1}/{num_epochs}\")\n",
    "    train(model, train_dataloader, optimizer, scheduler, device)\n",
    "    accuracy, report = evaluate(model, val_dataloader, device)\n",
    "    print(f\"Validation Accuracy: {accuracy:.4f}\")\n",
    "    print(report)"
   ]
  },
  {
   "cell_type": "code",
   "execution_count": 20,
   "id": "20929586-e9f0-46dc-9780-af5b0ba326d8",
   "metadata": {
    "execution": {
     "iopub.execute_input": "2024-03-07T22:55:31.849189Z",
     "iopub.status.busy": "2024-03-07T22:55:31.848691Z",
     "iopub.status.idle": "2024-03-07T22:55:32.275975Z",
     "shell.execute_reply": "2024-03-07T22:55:32.275344Z",
     "shell.execute_reply.started": "2024-03-07T22:55:31.849165Z"
    }
   },
   "outputs": [],
   "source": [
    "torch.save(model.state_dict(), \"bert_classifier_distilled.pth\")"
   ]
  },
  {
   "cell_type": "code",
   "execution_count": 17,
   "id": "02b7cbc3-a7f3-47ea-8349-8b99e4e71cff",
   "metadata": {
    "execution": {
     "iopub.execute_input": "2024-03-08T16:50:01.838837Z",
     "iopub.status.busy": "2024-03-08T16:50:01.838249Z",
     "iopub.status.idle": "2024-03-08T16:50:01.860796Z",
     "shell.execute_reply": "2024-03-08T16:50:01.860157Z",
     "shell.execute_reply.started": "2024-03-08T16:50:01.838814Z"
    }
   },
   "outputs": [
    {
     "name": "stdout",
     "output_type": "stream",
     "text": [
      "The movie was great and I really enjoyed the performances of the actors.\n",
      "Predicted sentiment: positive\n"
     ]
    }
   ],
   "source": [
    "# Test sentiment prediction\n",
    "test_text = \"The movie was great and I really enjoyed the performances of the actors.\"\n",
    "sentiment = predict_sentiment(test_text, model, tokenizer, device)\n",
    "print(\"The movie was great and I really enjoyed the performances of the actors.\")\n",
    "print(f\"Predicted sentiment: {sentiment}\")"
   ]
  }
 ],
 "metadata": {
  "kernelspec": {
   "display_name": "Python 3 (ipykernel)",
   "language": "python",
   "name": "python3"
  },
  "language_info": {
   "codemirror_mode": {
    "name": "ipython",
    "version": 3
   },
   "file_extension": ".py",
   "mimetype": "text/x-python",
   "name": "python",
   "nbconvert_exporter": "python",
   "pygments_lexer": "ipython3",
   "version": "3.9.16"
  }
 },
 "nbformat": 4,
 "nbformat_minor": 5
}
