{
 "cells": [
  {
   "cell_type": "code",
   "execution_count": 3,
   "id": "8f05ddd8-c822-42b3-89b4-19ac45e34be7",
   "metadata": {
    "execution": {
     "iopub.execute_input": "2024-03-07T22:37:33.734929Z",
     "iopub.status.busy": "2024-03-07T22:37:33.734291Z",
     "iopub.status.idle": "2024-03-07T22:37:38.757479Z",
     "shell.execute_reply": "2024-03-07T22:37:38.756677Z",
     "shell.execute_reply.started": "2024-03-07T22:37:33.734892Z"
    }
   },
   "outputs": [
    {
     "name": "stdout",
     "output_type": "stream",
     "text": [
      "Collecting tape-proteins\n",
      "  Downloading tape_proteins-0.5-py3-none-any.whl (68 kB)\n",
      "\u001b[2K     \u001b[90m━━━━━━━━━━━━━━━━━━━━━━━━━━━━━━━━━━━━━━━━\u001b[0m \u001b[32m68.9/68.9 kB\u001b[0m \u001b[31m14.5 MB/s\u001b[0m eta \u001b[36m0:00:00\u001b[0m\n",
      "\u001b[?25hRequirement already satisfied: filelock in /usr/local/lib/python3.9/dist-packages (from tape-proteins) (3.9.0)\n",
      "Requirement already satisfied: scipy in /usr/local/lib/python3.9/dist-packages (from tape-proteins) (1.9.2)\n",
      "Requirement already satisfied: tqdm in /usr/local/lib/python3.9/dist-packages (from tape-proteins) (4.64.1)\n",
      "Requirement already satisfied: requests in /usr/local/lib/python3.9/dist-packages (from tape-proteins) (2.28.2)\n",
      "Collecting tensorboardX\n",
      "  Downloading tensorboardX-2.6.2.2-py2.py3-none-any.whl (101 kB)\n",
      "\u001b[2K     \u001b[90m━━━━━━━━━━━━━━━━━━━━━━━━━━━━━━━━━━━━━━\u001b[0m \u001b[32m101.7/101.7 kB\u001b[0m \u001b[31m32.0 MB/s\u001b[0m eta \u001b[36m0:00:00\u001b[0m\n",
      "\u001b[?25hCollecting biopython\n",
      "  Downloading biopython-1.83-cp39-cp39-manylinux_2_17_x86_64.manylinux2014_x86_64.whl (3.1 MB)\n",
      "\u001b[2K     \u001b[90m━━━━━━━━━━━━━━━━━━━━━━━━━━━━━━━━━━━━━━━━\u001b[0m \u001b[32m3.1/3.1 MB\u001b[0m \u001b[31m71.2 MB/s\u001b[0m eta \u001b[36m0:00:00\u001b[0m:00:01\u001b[0m\n",
      "\u001b[?25hCollecting lmdb\n",
      "  Downloading lmdb-1.4.1-cp39-cp39-manylinux_2_17_x86_64.manylinux2014_x86_64.whl (298 kB)\n",
      "\u001b[2K     \u001b[90m━━━━━━━━━━━━━━━━━━━━━━━━━━━━━━━━━━━━━━\u001b[0m \u001b[32m298.5/298.5 kB\u001b[0m \u001b[31m60.9 MB/s\u001b[0m eta \u001b[36m0:00:00\u001b[0m\n",
      "\u001b[?25hRequirement already satisfied: boto3 in /usr/local/lib/python3.9/dist-packages (from tape-proteins) (1.24.90)\n",
      "Requirement already satisfied: numpy in /usr/local/lib/python3.9/dist-packages (from biopython->tape-proteins) (1.23.4)\n",
      "Requirement already satisfied: botocore<1.28.0,>=1.27.90 in /usr/local/lib/python3.9/dist-packages (from boto3->tape-proteins) (1.27.90)\n",
      "Requirement already satisfied: s3transfer<0.7.0,>=0.6.0 in /usr/local/lib/python3.9/dist-packages (from boto3->tape-proteins) (0.6.0)\n",
      "Requirement already satisfied: jmespath<2.0.0,>=0.7.1 in /usr/local/lib/python3.9/dist-packages (from boto3->tape-proteins) (1.0.1)\n",
      "Requirement already satisfied: certifi>=2017.4.17 in /usr/lib/python3/dist-packages (from requests->tape-proteins) (2019.11.28)\n",
      "Requirement already satisfied: urllib3<1.27,>=1.21.1 in /usr/local/lib/python3.9/dist-packages (from requests->tape-proteins) (1.26.14)\n",
      "Requirement already satisfied: idna<4,>=2.5 in /usr/lib/python3/dist-packages (from requests->tape-proteins) (2.8)\n",
      "Requirement already satisfied: charset-normalizer<4,>=2 in /usr/local/lib/python3.9/dist-packages (from requests->tape-proteins) (2.1.1)\n",
      "Requirement already satisfied: packaging in /usr/local/lib/python3.9/dist-packages (from tensorboardX->tape-proteins) (23.0)\n",
      "Collecting protobuf>=3.20\n",
      "  Downloading protobuf-4.25.3-cp37-abi3-manylinux2014_x86_64.whl (294 kB)\n",
      "\u001b[2K     \u001b[90m━━━━━━━━━━━━━━━━━━━━━━━━━━━━━━━━━━━━━━\u001b[0m \u001b[32m294.6/294.6 kB\u001b[0m \u001b[31m39.3 MB/s\u001b[0m eta \u001b[36m0:00:00\u001b[0m\n",
      "\u001b[?25hRequirement already satisfied: python-dateutil<3.0.0,>=2.1 in /usr/local/lib/python3.9/dist-packages (from botocore<1.28.0,>=1.27.90->boto3->tape-proteins) (2.8.2)\n",
      "Requirement already satisfied: six>=1.5 in /usr/lib/python3/dist-packages (from python-dateutil<3.0.0,>=2.1->botocore<1.28.0,>=1.27.90->boto3->tape-proteins) (1.14.0)\n",
      "Installing collected packages: lmdb, protobuf, biopython, tensorboardX, tape-proteins\n",
      "  Attempting uninstall: protobuf\n",
      "    Found existing installation: protobuf 3.19.6\n",
      "    Uninstalling protobuf-3.19.6:\n",
      "      Successfully uninstalled protobuf-3.19.6\n",
      "\u001b[31mERROR: pip's dependency resolver does not currently take into account all the packages that are installed. This behaviour is the source of the following dependency conflicts.\n",
      "tensorflow 2.9.2 requires protobuf<3.20,>=3.9.2, but you have protobuf 4.25.3 which is incompatible.\n",
      "tensorboard 2.9.1 requires protobuf<3.20,>=3.9.2, but you have protobuf 4.25.3 which is incompatible.\u001b[0m\u001b[31m\n",
      "\u001b[0mSuccessfully installed biopython-1.83 lmdb-1.4.1 protobuf-4.25.3 tape-proteins-0.5 tensorboardX-2.6.2.2\n",
      "\u001b[33mWARNING: Running pip as the 'root' user can result in broken permissions and conflicting behaviour with the system package manager. It is recommended to use a virtual environment instead: https://pip.pypa.io/warnings/venv\u001b[0m\u001b[33m\n",
      "\u001b[0m"
     ]
    }
   ],
   "source": [
    "!pip install tape-proteins"
   ]
  },
  {
   "cell_type": "code",
   "execution_count": 4,
   "id": "f77150f8-efc6-4d74-b48d-3fdfa9396a7f",
   "metadata": {
    "execution": {
     "iopub.execute_input": "2024-03-07T22:38:36.563876Z",
     "iopub.status.busy": "2024-03-07T22:38:36.563160Z",
     "iopub.status.idle": "2024-03-07T22:38:36.859767Z",
     "shell.execute_reply": "2024-03-07T22:38:36.859123Z",
     "shell.execute_reply.started": "2024-03-07T22:38:36.563844Z"
    }
   },
   "outputs": [],
   "source": [
    "import os\n",
    "import torch\n",
    "from torch import nn\n",
    "from torch.utils.data import DataLoader, Dataset\n",
    "from transformers import BertTokenizer, BertModel, BertConfig, AdamW, get_linear_schedule_with_warmup\n",
    "from distillerBERT import Distillator as DistillatorBert\n",
    "from sklearn.model_selection import train_test_split\n",
    "from sklearn.metrics import accuracy_score, classification_report\n",
    "import pandas as pd"
   ]
  },
  {
   "cell_type": "code",
   "execution_count": 5,
   "id": "ba64fdf6-88e3-47ac-8081-3f2be82d6067",
   "metadata": {
    "execution": {
     "iopub.execute_input": "2024-03-07T22:38:41.033436Z",
     "iopub.status.busy": "2024-03-07T22:38:41.032884Z",
     "iopub.status.idle": "2024-03-07T22:38:41.041551Z",
     "shell.execute_reply": "2024-03-07T22:38:41.040743Z",
     "shell.execute_reply.started": "2024-03-07T22:38:41.033411Z"
    }
   },
   "outputs": [],
   "source": [
    "def load_imdb_data(data_file):\n",
    "    df = pd.read_csv(data_file)\n",
    "    texts = df['review'].tolist()\n",
    "    labels = [1 if sentiment == \"positive\" else 0 for sentiment in df['sentiment'].tolist()]\n",
    "    return texts, labels"
   ]
  },
  {
   "cell_type": "code",
   "execution_count": 6,
   "id": "bc8c4eff-76ca-4dcd-9371-35f81753da10",
   "metadata": {
    "execution": {
     "iopub.execute_input": "2024-03-07T22:38:42.754283Z",
     "iopub.status.busy": "2024-03-07T22:38:42.753237Z",
     "iopub.status.idle": "2024-03-07T22:38:43.665510Z",
     "shell.execute_reply": "2024-03-07T22:38:43.664954Z",
     "shell.execute_reply.started": "2024-03-07T22:38:42.754240Z"
    }
   },
   "outputs": [],
   "source": [
    "data_file = \"IMDB Dataset.csv\"\n",
    "texts, labels = load_imdb_data(data_file)"
   ]
  },
  {
   "cell_type": "code",
   "execution_count": 7,
   "id": "ef632fdc-0043-482c-8ef2-5de3084ad772",
   "metadata": {
    "execution": {
     "iopub.execute_input": "2024-03-07T22:38:44.800088Z",
     "iopub.status.busy": "2024-03-07T22:38:44.799155Z",
     "iopub.status.idle": "2024-03-07T22:38:44.804292Z",
     "shell.execute_reply": "2024-03-07T22:38:44.803782Z",
     "shell.execute_reply.started": "2024-03-07T22:38:44.800056Z"
    }
   },
   "outputs": [],
   "source": [
    "class TextClassificationDataset(Dataset):\n",
    "    def __init__(self, texts, labels, tokenizer, max_length):\n",
    "            self.texts = texts\n",
    "            self.labels = labels\n",
    "            self.tokenizer = tokenizer\n",
    "            self.max_length = max_length\n",
    "    def __len__(self):\n",
    "        return len(self.texts)\n",
    "    def __getitem__(self, idx):\n",
    "        text = self.texts[idx]\n",
    "        label = self.labels[idx]\n",
    "        encoding = self.tokenizer(text, return_tensors='pt', max_length=self.max_length, padding='max_length', truncation=True)\n",
    "        return {'input_ids': encoding['input_ids'].flatten(), 'attention_mask': encoding['attention_mask'].flatten(), 'label': torch.tensor(label)}"
   ]
  },
  {
   "cell_type": "code",
   "execution_count": 16,
   "id": "c66802be-e433-4ed7-bab6-2e1bc5c81a12",
   "metadata": {
    "execution": {
     "iopub.execute_input": "2024-03-07T22:39:29.883048Z",
     "iopub.status.busy": "2024-03-07T22:39:29.882434Z",
     "iopub.status.idle": "2024-03-07T22:39:29.887724Z",
     "shell.execute_reply": "2024-03-07T22:39:29.886971Z",
     "shell.execute_reply.started": "2024-03-07T22:39:29.883022Z"
    }
   },
   "outputs": [],
   "source": [
    "class BERTClassifier(nn.Module):\n",
    "    def __init__(self, bert_model_name, num_classes):\n",
    "        super(BERTClassifier, self).__init__()\n",
    "        bert = BertModel.from_pretrained('bert-base-uncased')\n",
    "        distilled_bert = DistillatorBert(bert)\n",
    "        self.bert = distilled_bert.student\n",
    "        self.dropout = nn.Dropout(0.1)\n",
    "        self.fc = nn.Linear(self.bert.config.hidden_size, num_classes)\n",
    "\n",
    "    def forward(self, input_ids, attention_mask):\n",
    "        outputs = self.bert(input_ids=input_ids, attention_mask=attention_mask)\n",
    "        pooled_output = outputs.pooler_output\n",
    "        x = self.dropout(pooled_output)\n",
    "        logits = self.fc(x)\n",
    "        return logits"
   ]
  },
  {
   "cell_type": "code",
   "execution_count": 9,
   "id": "991f9de2-4269-4911-94a7-f1ddc8665628",
   "metadata": {
    "execution": {
     "iopub.execute_input": "2024-03-07T22:38:48.876255Z",
     "iopub.status.busy": "2024-03-07T22:38:48.875270Z",
     "iopub.status.idle": "2024-03-07T22:38:48.880094Z",
     "shell.execute_reply": "2024-03-07T22:38:48.879525Z",
     "shell.execute_reply.started": "2024-03-07T22:38:48.876224Z"
    }
   },
   "outputs": [],
   "source": [
    "def train(model, data_loader, optimizer, scheduler, device):\n",
    "    model.train()\n",
    "    for batch in data_loader:\n",
    "        optimizer.zero_grad()\n",
    "        input_ids = batch['input_ids'].to(device)\n",
    "        attention_mask = batch['attention_mask'].to(device)\n",
    "        labels = batch['label'].to(device)\n",
    "        outputs = model(input_ids=input_ids, attention_mask=attention_mask)\n",
    "        loss = nn.CrossEntropyLoss()(outputs, labels)\n",
    "        loss.backward()\n",
    "        optimizer.step()\n",
    "        scheduler.step()"
   ]
  },
  {
   "cell_type": "code",
   "execution_count": 10,
   "id": "9bb6dd28-97d1-446b-9046-d853766a4052",
   "metadata": {
    "execution": {
     "iopub.execute_input": "2024-03-07T22:38:51.308573Z",
     "iopub.status.busy": "2024-03-07T22:38:51.307677Z",
     "iopub.status.idle": "2024-03-07T22:38:51.312969Z",
     "shell.execute_reply": "2024-03-07T22:38:51.312392Z",
     "shell.execute_reply.started": "2024-03-07T22:38:51.308544Z"
    }
   },
   "outputs": [],
   "source": [
    "def evaluate(model, data_loader, device):\n",
    "    model.eval()\n",
    "    predictions = []\n",
    "    actual_labels = []\n",
    "    with torch.no_grad():\n",
    "        for batch in data_loader:\n",
    "            input_ids = batch['input_ids'].to(device)\n",
    "            attention_mask = batch['attention_mask'].to(device)\n",
    "            labels = batch['label'].to(device)\n",
    "            outputs = model(input_ids=input_ids, attention_mask=attention_mask)\n",
    "            _, preds = torch.max(outputs, dim=1)\n",
    "            predictions.extend(preds.cpu().tolist())\n",
    "            actual_labels.extend(labels.cpu().tolist())\n",
    "    return accuracy_score(actual_labels, predictions), classification_report(actual_labels, predictions)"
   ]
  },
  {
   "cell_type": "code",
   "execution_count": 11,
   "id": "b3561688-569f-4127-9567-b953f8924c6c",
   "metadata": {
    "execution": {
     "iopub.execute_input": "2024-03-07T22:38:52.705333Z",
     "iopub.status.busy": "2024-03-07T22:38:52.704421Z",
     "iopub.status.idle": "2024-03-07T22:38:52.709171Z",
     "shell.execute_reply": "2024-03-07T22:38:52.708559Z",
     "shell.execute_reply.started": "2024-03-07T22:38:52.705303Z"
    }
   },
   "outputs": [],
   "source": [
    "def predict_sentiment(text, model, tokenizer, device, max_length=128):\n",
    "    model.eval()\n",
    "    encoding = tokenizer(text, return_tensors='pt', max_length=max_length, padding='max_length', truncation=True)\n",
    "    input_ids = encoding['input_ids'].to(device)\n",
    "    attention_mask = encoding['attention_mask'].to(device)\n",
    "\n",
    "    with torch.no_grad():\n",
    "            outputs = model(input_ids=input_ids, attention_mask=attention_mask)\n",
    "            _, preds = torch.max(outputs, dim=1)\n",
    "    return \"positive\" if preds.item() == 1 else \"negative\""
   ]
  },
  {
   "cell_type": "code",
   "execution_count": 12,
   "id": "f159ada6-d94b-43e6-b199-14e204055418",
   "metadata": {
    "execution": {
     "iopub.execute_input": "2024-03-07T22:38:54.128862Z",
     "iopub.status.busy": "2024-03-07T22:38:54.127995Z",
     "iopub.status.idle": "2024-03-07T22:38:54.131871Z",
     "shell.execute_reply": "2024-03-07T22:38:54.131434Z",
     "shell.execute_reply.started": "2024-03-07T22:38:54.128835Z"
    }
   },
   "outputs": [],
   "source": [
    "# Set up parameters\n",
    "bert_model_name = 'bert-base-uncased'\n",
    "num_classes = 2\n",
    "max_length = 128\n",
    "batch_size = 16\n",
    "num_epochs = 4\n",
    "learning_rate = 2e-5"
   ]
  },
  {
   "cell_type": "code",
   "execution_count": 13,
   "id": "eb948e39-0cf2-48a9-bf35-c95e54186e9b",
   "metadata": {
    "execution": {
     "iopub.execute_input": "2024-03-07T22:38:55.514149Z",
     "iopub.status.busy": "2024-03-07T22:38:55.513319Z",
     "iopub.status.idle": "2024-03-07T22:38:55.535964Z",
     "shell.execute_reply": "2024-03-07T22:38:55.535276Z",
     "shell.execute_reply.started": "2024-03-07T22:38:55.514127Z"
    }
   },
   "outputs": [],
   "source": [
    "train_texts, val_texts, train_labels, val_labels = train_test_split(texts, labels, test_size=0.2, random_state=42)"
   ]
  },
  {
   "cell_type": "code",
   "execution_count": 14,
   "id": "2689ad34-bd81-46d2-afa7-b6831125c828",
   "metadata": {
    "execution": {
     "iopub.execute_input": "2024-03-07T22:38:56.485422Z",
     "iopub.status.busy": "2024-03-07T22:38:56.484589Z",
     "iopub.status.idle": "2024-03-07T22:38:57.122206Z",
     "shell.execute_reply": "2024-03-07T22:38:57.121654Z",
     "shell.execute_reply.started": "2024-03-07T22:38:56.485396Z"
    }
   },
   "outputs": [
    {
     "data": {
      "application/vnd.jupyter.widget-view+json": {
       "model_id": "fa19d8041d374d9c9834e20ba1a1843a",
       "version_major": 2,
       "version_minor": 0
      },
      "text/plain": [
       "Downloading vocab.txt:   0%|          | 0.00/226k [00:00<?, ?B/s]"
      ]
     },
     "metadata": {},
     "output_type": "display_data"
    },
    {
     "data": {
      "application/vnd.jupyter.widget-view+json": {
       "model_id": "7629142340b04dc38483798cb175a8ba",
       "version_major": 2,
       "version_minor": 0
      },
      "text/plain": [
       "Downloading tokenizer_config.json:   0%|          | 0.00/48.0 [00:00<?, ?B/s]"
      ]
     },
     "metadata": {},
     "output_type": "display_data"
    },
    {
     "data": {
      "application/vnd.jupyter.widget-view+json": {
       "model_id": "11bfaec52ed245979cc6498422bbc064",
       "version_major": 2,
       "version_minor": 0
      },
      "text/plain": [
       "Downloading config.json:   0%|          | 0.00/570 [00:00<?, ?B/s]"
      ]
     },
     "metadata": {},
     "output_type": "display_data"
    }
   ],
   "source": [
    "tokenizer = BertTokenizer.from_pretrained(bert_model_name)\n",
    "train_dataset = TextClassificationDataset(train_texts, train_labels, tokenizer, max_length)\n",
    "val_dataset = TextClassificationDataset(val_texts, val_labels, tokenizer, max_length)\n",
    "train_dataloader = DataLoader(train_dataset, batch_size=batch_size, shuffle=True)\n",
    "val_dataloader = DataLoader(val_dataset, batch_size=batch_size)"
   ]
  },
  {
   "cell_type": "code",
   "execution_count": 17,
   "id": "a7976456-1f12-44cd-ace6-37ddb7434493",
   "metadata": {
    "execution": {
     "iopub.execute_input": "2024-03-07T22:39:36.502318Z",
     "iopub.status.busy": "2024-03-07T22:39:36.501678Z",
     "iopub.status.idle": "2024-03-07T22:39:40.277153Z",
     "shell.execute_reply": "2024-03-07T22:39:40.276369Z",
     "shell.execute_reply.started": "2024-03-07T22:39:36.502291Z"
    }
   },
   "outputs": [
    {
     "name": "stderr",
     "output_type": "stream",
     "text": [
      "Some weights of the model checkpoint at bert-base-uncased were not used when initializing BertModel: ['cls.predictions.bias', 'cls.predictions.transform.LayerNorm.bias', 'cls.predictions.transform.LayerNorm.weight', 'cls.seq_relationship.weight', 'cls.predictions.decoder.weight', 'cls.seq_relationship.bias', 'cls.predictions.transform.dense.bias', 'cls.predictions.transform.dense.weight']\n",
      "- This IS expected if you are initializing BertModel from the checkpoint of a model trained on another task or with another architecture (e.g. initializing a BertForSequenceClassification model from a BertForPreTraining model).\n",
      "- This IS NOT expected if you are initializing BertModel from the checkpoint of a model that you expect to be exactly identical (initializing a BertForSequenceClassification model from a BertForSequenceClassification model).\n"
     ]
    }
   ],
   "source": [
    "device = torch.device(\"cuda\" if torch.cuda.is_available() else \"cpu\")\n",
    "model = BERTClassifier(bert_model_name, num_classes).to(device)"
   ]
  },
  {
   "cell_type": "code",
   "execution_count": 18,
   "id": "61fe173e-a2ff-4946-80e1-606364c9d901",
   "metadata": {
    "execution": {
     "iopub.execute_input": "2024-03-07T22:39:48.792599Z",
     "iopub.status.busy": "2024-03-07T22:39:48.791548Z",
     "iopub.status.idle": "2024-03-07T22:39:48.803191Z",
     "shell.execute_reply": "2024-03-07T22:39:48.802286Z",
     "shell.execute_reply.started": "2024-03-07T22:39:48.792527Z"
    }
   },
   "outputs": [
    {
     "name": "stderr",
     "output_type": "stream",
     "text": [
      "/usr/local/lib/python3.9/dist-packages/transformers/optimization.py:306: FutureWarning: This implementation of AdamW is deprecated and will be removed in a future version. Use the PyTorch implementation torch.optim.AdamW instead, or set `no_deprecation_warning=True` to disable this warning\n",
      "  warnings.warn(\n"
     ]
    }
   ],
   "source": [
    "optimizer = AdamW(model.parameters(), lr=learning_rate)\n",
    "total_steps = len(train_dataloader) * num_epochs\n",
    "scheduler = get_linear_schedule_with_warmup(optimizer, num_warmup_steps=0, num_training_steps=total_steps)"
   ]
  },
  {
   "cell_type": "code",
   "execution_count": 19,
   "id": "04fc7ef7-a28e-4a2b-8dd8-2ad0ac441c14",
   "metadata": {
    "execution": {
     "iopub.execute_input": "2024-03-07T22:39:51.584964Z",
     "iopub.status.busy": "2024-03-07T22:39:51.584668Z",
     "iopub.status.idle": "2024-03-07T22:54:41.544064Z",
     "shell.execute_reply": "2024-03-07T22:54:41.543459Z",
     "shell.execute_reply.started": "2024-03-07T22:39:51.584940Z"
    }
   },
   "outputs": [
    {
     "name": "stdout",
     "output_type": "stream",
     "text": [
      "Epoch 1/4\n",
      "Validation Accuracy: 0.8308\n",
      "              precision    recall  f1-score   support\n",
      "\n",
      "           0       0.88      0.77      0.82      4961\n",
      "           1       0.80      0.89      0.84      5039\n",
      "\n",
      "    accuracy                           0.83     10000\n",
      "   macro avg       0.84      0.83      0.83     10000\n",
      "weighted avg       0.84      0.83      0.83     10000\n",
      "\n",
      "Epoch 2/4\n",
      "Validation Accuracy: 0.8423\n",
      "              precision    recall  f1-score   support\n",
      "\n",
      "           0       0.85      0.83      0.84      4961\n",
      "           1       0.84      0.85      0.85      5039\n",
      "\n",
      "    accuracy                           0.84     10000\n",
      "   macro avg       0.84      0.84      0.84     10000\n",
      "weighted avg       0.84      0.84      0.84     10000\n",
      "\n",
      "Epoch 3/4\n",
      "Validation Accuracy: 0.8392\n",
      "              precision    recall  f1-score   support\n",
      "\n",
      "           0       0.84      0.83      0.84      4961\n",
      "           1       0.84      0.85      0.84      5039\n",
      "\n",
      "    accuracy                           0.84     10000\n",
      "   macro avg       0.84      0.84      0.84     10000\n",
      "weighted avg       0.84      0.84      0.84     10000\n",
      "\n",
      "Epoch 4/4\n",
      "Validation Accuracy: 0.8355\n",
      "              precision    recall  f1-score   support\n",
      "\n",
      "           0       0.84      0.83      0.83      4961\n",
      "           1       0.83      0.84      0.84      5039\n",
      "\n",
      "    accuracy                           0.84     10000\n",
      "   macro avg       0.84      0.84      0.84     10000\n",
      "weighted avg       0.84      0.84      0.84     10000\n",
      "\n"
     ]
    }
   ],
   "source": [
    "for epoch in range(num_epochs):\n",
    "    print(f\"Epoch {epoch + 1}/{num_epochs}\")\n",
    "    train(model, train_dataloader, optimizer, scheduler, device)\n",
    "    accuracy, report = evaluate(model, val_dataloader, device)\n",
    "    print(f\"Validation Accuracy: {accuracy:.4f}\")\n",
    "    print(report)"
   ]
  },
  {
   "cell_type": "code",
   "execution_count": 20,
   "id": "20929586-e9f0-46dc-9780-af5b0ba326d8",
   "metadata": {
    "execution": {
     "iopub.execute_input": "2024-03-07T22:55:31.849189Z",
     "iopub.status.busy": "2024-03-07T22:55:31.848691Z",
     "iopub.status.idle": "2024-03-07T22:55:32.275975Z",
     "shell.execute_reply": "2024-03-07T22:55:32.275344Z",
     "shell.execute_reply.started": "2024-03-07T22:55:31.849165Z"
    }
   },
   "outputs": [],
   "source": [
    "torch.save(model.state_dict(), \"bert_classifier_distilled.pth\")"
   ]
  },
  {
   "cell_type": "code",
   "execution_count": 21,
   "id": "02b7cbc3-a7f3-47ea-8349-8b99e4e71cff",
   "metadata": {
    "execution": {
     "iopub.execute_input": "2024-03-07T22:55:37.384418Z",
     "iopub.status.busy": "2024-03-07T22:55:37.383808Z",
     "iopub.status.idle": "2024-03-07T22:55:37.398675Z",
     "shell.execute_reply": "2024-03-07T22:55:37.397611Z",
     "shell.execute_reply.started": "2024-03-07T22:55:37.384389Z"
    }
   },
   "outputs": [
    {
     "name": "stdout",
     "output_type": "stream",
     "text": [
      "The movie was great and I really enjoyed the performances of the actors.\n",
      "Predicted sentiment: positive\n"
     ]
    }
   ],
   "source": [
    "# Test sentiment prediction\n",
    "test_text = \"The movie was great and I really enjoyed the performances of the actors.\"\n",
    "sentiment = predict_sentiment(test_text, model, tokenizer, device)\n",
    "print(\"The movie was great and I really enjoyed the performances of the actors.\")\n",
    "print(f\"Predicted sentiment: {sentiment}\")"
   ]
  }
 ],
 "metadata": {
  "kernelspec": {
   "display_name": "Python 3 (ipykernel)",
   "language": "python",
   "name": "python3"
  },
  "language_info": {
   "codemirror_mode": {
    "name": "ipython",
    "version": 3
   },
   "file_extension": ".py",
   "mimetype": "text/x-python",
   "name": "python",
   "nbconvert_exporter": "python",
   "pygments_lexer": "ipython3",
   "version": "3.9.16"
  }
 },
 "nbformat": 4,
 "nbformat_minor": 5
}
